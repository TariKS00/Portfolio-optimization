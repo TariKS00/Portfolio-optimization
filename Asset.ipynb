{
 "cells": [
  {
   "cell_type": "code",
   "execution_count": 6,
   "id": "2a18ccc6",
   "metadata": {},
   "outputs": [],
   "source": [
    "from abc import ABC, abstractmethod"
   ]
  },
  {
   "cell_type": "code",
   "execution_count": 7,
   "id": "6691f707",
   "metadata": {},
   "outputs": [],
   "source": [
    "import yfinance as yf\n",
    "import pandas as pd"
   ]
  },
  {
   "cell_type": "code",
   "execution_count": 78,
   "id": "65c55623",
   "metadata": {},
   "outputs": [
    {
     "name": "stderr",
     "output_type": "stream",
     "text": [
      "[*********************100%***********************]  3 of 3 completed\n"
     ]
    }
   ],
   "source": [
    "tickers = [\"AAPL\", \"MSFT\", \"GOOG\"]\n",
    "data= yf.download(tickers, start=\"2023-01-01\", end=\"2024-01-01\")['Adj Close']"
   ]
  },
  {
   "cell_type": "code",
   "execution_count": 75,
   "id": "a5c2c9ee",
   "metadata": {},
   "outputs": [
    {
     "data": {
      "text/html": [
       "<div>\n",
       "<style scoped>\n",
       "    .dataframe tbody tr th:only-of-type {\n",
       "        vertical-align: middle;\n",
       "    }\n",
       "\n",
       "    .dataframe tbody tr th {\n",
       "        vertical-align: top;\n",
       "    }\n",
       "\n",
       "    .dataframe thead th {\n",
       "        text-align: right;\n",
       "    }\n",
       "</style>\n",
       "<table border=\"1\" class=\"dataframe\">\n",
       "  <thead>\n",
       "    <tr style=\"text-align: right;\">\n",
       "      <th>Ticker</th>\n",
       "      <th>AAPL</th>\n",
       "      <th>GOOG</th>\n",
       "      <th>MSFT</th>\n",
       "    </tr>\n",
       "    <tr>\n",
       "      <th>Date</th>\n",
       "      <th></th>\n",
       "      <th></th>\n",
       "      <th></th>\n",
       "    </tr>\n",
       "  </thead>\n",
       "  <tbody>\n",
       "    <tr>\n",
       "      <th>2023-01-03</th>\n",
       "      <td>123.768448</td>\n",
       "      <td>89.480255</td>\n",
       "      <td>235.711731</td>\n",
       "    </tr>\n",
       "    <tr>\n",
       "      <th>2023-01-04</th>\n",
       "      <td>125.045036</td>\n",
       "      <td>88.492676</td>\n",
       "      <td>225.400925</td>\n",
       "    </tr>\n",
       "    <tr>\n",
       "      <th>2023-01-05</th>\n",
       "      <td>123.718979</td>\n",
       "      <td>86.557426</td>\n",
       "      <td>218.720551</td>\n",
       "    </tr>\n",
       "    <tr>\n",
       "      <th>2023-01-06</th>\n",
       "      <td>128.271088</td>\n",
       "      <td>87.944031</td>\n",
       "      <td>221.298218</td>\n",
       "    </tr>\n",
       "    <tr>\n",
       "      <th>2023-01-09</th>\n",
       "      <td>128.795609</td>\n",
       "      <td>88.582466</td>\n",
       "      <td>223.452896</td>\n",
       "    </tr>\n",
       "  </tbody>\n",
       "</table>\n",
       "</div>"
      ],
      "text/plain": [
       "Ticker            AAPL       GOOG        MSFT\n",
       "Date                                         \n",
       "2023-01-03  123.768448  89.480255  235.711731\n",
       "2023-01-04  125.045036  88.492676  225.400925\n",
       "2023-01-05  123.718979  86.557426  218.720551\n",
       "2023-01-06  128.271088  87.944031  221.298218\n",
       "2023-01-09  128.795609  88.582466  223.452896"
      ]
     },
     "execution_count": 75,
     "metadata": {},
     "output_type": "execute_result"
    }
   ],
   "source": [
    "data.head()"
   ]
  },
  {
   "cell_type": "code",
   "execution_count": 10,
   "id": "5e76088a",
   "metadata": {},
   "outputs": [],
   "source": [
    "class Asset(ABC):\n",
    "    def __init__(self, name):\n",
    "        self.name = name\n",
    "\n",
    "    @abstractmethod\n",
    "    def calculate_return(self):\n",
    "        pass"
   ]
  },
  {
   "cell_type": "code",
   "execution_count": 79,
   "id": "a6896ce4",
   "metadata": {},
   "outputs": [],
   "source": [
    "class Stock(Asset):\n",
    "    \n",
    "    def __init__(self, name, prices):\n",
    "        super().__init__(name)\n",
    "        self.prices = prices\n",
    "        \n",
    "    def calculate_return(self):\n",
    "        return self.prices.pct_change().dropna()\n",
    "        "
   ]
  },
  {
   "cell_type": "code",
   "execution_count": 80,
   "id": "9824106c",
   "metadata": {},
   "outputs": [],
   "source": [
    "apple_stock_prices = data['AAPL']\n",
    "microsoft_stock_prices=data['MSFT']\n",
    "apple=Stock('apple',apple_stock_prices)\n",
    "microsoft=Stock('microsoft',microsoft_stock_prices)"
   ]
  },
  {
   "cell_type": "code",
   "execution_count": 82,
   "id": "a9ec8858",
   "metadata": {},
   "outputs": [
    {
     "data": {
      "text/plain": [
       "Date\n",
       "2023-01-04    0.010314\n",
       "2023-01-05   -0.010605\n",
       "2023-01-06    0.036794\n",
       "2023-01-09    0.004089\n",
       "2023-01-10    0.004456\n",
       "                ...   \n",
       "2023-12-22   -0.005548\n",
       "2023-12-26   -0.002841\n",
       "2023-12-27    0.000518\n",
       "2023-12-28    0.002226\n",
       "2023-12-29   -0.005424\n",
       "Name: AAPL, Length: 249, dtype: float64"
      ]
     },
     "execution_count": 82,
     "metadata": {},
     "output_type": "execute_result"
    }
   ],
   "source": [
    "apple.calculate_return()"
   ]
  },
  {
   "cell_type": "markdown",
   "id": "37d76f06",
   "metadata": {},
   "source": [
    "## Class Portfolio "
   ]
  },
  {
   "cell_type": "code",
   "execution_count": 89,
   "id": "51ec7816",
   "metadata": {},
   "outputs": [],
   "source": [
    "import numpy as np\n",
    "from scipy.optimize import minimize\n",
    "\n",
    "\n",
    "class Portfolio():\n",
    "    def __init__(self):\n",
    "        self._assets=[]\n",
    "        self._weights=[]\n",
    "        \n",
    "    def get_assets(self):\n",
    "        return self._assets\n",
    "    \n",
    "    \n",
    "    def set_assets(self, assets):\n",
    "        if not isinstance(assets, list):\n",
    "            raise TypeError(\"Les actifs doivent être une liste.\")\n",
    "        self._assets = assets\n",
    "        \n",
    "        \n",
    "        \n",
    "    def get_weights(self):\n",
    "        return self._weights\n",
    "    \n",
    "\n",
    "    def set_weights(self, weights):\n",
    "        if not all(0 <= w <= 1 for w in weights):\n",
    "            raise ValueError(\"Les poids doivent être entre 0 et 1.\")\n",
    "        if sum(weights) > 1:\n",
    "            raise ValueError(\"La somme des poids ne peut pas dépasser 1.\")\n",
    "        self._weights = weights\n",
    "        \n",
    "    \n",
    "    def add_asset(self,asset,weight):\n",
    "        self._weights.append(weight)\n",
    "        if not isinstance(asset, Asset):\n",
    "            raise TypeError(\"L'objet ajouté doit être une instance de la classe Asset.\")\n",
    "        self._assets.append(asset)\n",
    "       \n",
    "        \n",
    "        \n",
    "    def portfolio_summary(self):\n",
    "        details = \"Détail du portefeuille :\\n\"\n",
    "        for asset, weight in zip(self._assets, self._weights):\n",
    "            details += f\"- {asset.name}: {weight*100:.2f}%\\n\"\n",
    "        return details\n",
    "    \n",
    "    \n",
    "    def portfolio_return(self):\n",
    "        # Calcul du rendement moyen pondéré\n",
    "        returns = [asset.calculate_return() for asset in self._assets]\n",
    "        rendement = sum(weight * returns[i].mean() for i, weight in enumerate(self._weights))\n",
    "        return rendement\n",
    "    \n",
    "    \n",
    "    def calculate_portfolio_returns(self):\n",
    "\n",
    "        all_returns = [asset.calculate_return() for asset in self._assets]\n",
    "\n",
    "        # Combinaison des rendements pondérés\n",
    "        weighted_returns = np.sum([returns * weight for returns, weight in zip(all_returns, self._weights)], axis=0)\n",
    "        return weighted_returns\n",
    "    \n",
    "\n",
    "    def portfolio_volatility(self):\n",
    "        returns=np.array([asset.calculate_return().mean() for asset in self._assets])\n",
    "        weights=np.array(self._weights)\n",
    "        cov_mat=np.cov(returns)\n",
    "        return np.sqrt(np.dot(weights.T, np.dot(cov_mat, weights)))\n",
    "    \n",
    "    \n",
    "    ## Optimisation du portfeuille\n",
    "    ## La méthode suivante optimise les pondérations des actifs pour minimiser le risque pour un rendement donné,\n",
    "    ##   elle retourne les pondérations optimales pour atteindre le rendement cible\n",
    "    \n",
    "    \n",
    "    def optimize_portfolio(self, target_return):\n",
    "        ### target_return: Rendement cible du portefeuille\n",
    "            \n",
    "    \n",
    "        # Fonction objectif pour minimiser la volatilité\n",
    "        def objective(weights):\n",
    "            returns = np.array([asset.calculate_return().mean() for asset in self._assets])\n",
    "            cov_mat = np.cov(returns)\n",
    "            portfolio_volatility = np.sqrt(np.dot(weights.T, np.dot(cov_mat, weights)))\n",
    "            return portfolio_volatility\n",
    "    \n",
    "    \n",
    "        # Contrainte : le rendement du portefeuille doit être égal au rendement cible\n",
    "        def return_constraint(weights):\n",
    "            returns = np.array([asset.calculate_return().mean() for asset in self._assets])\n",
    "            portfolio_return = np.dot(weights, returns)\n",
    "            return portfolio_return - target_return\n",
    "        \n",
    "        # Contrainte : la somme des pondérations doit être égale à 1\n",
    "        constraints = ({'type': 'eq', 'fun': return_constraint},\n",
    "                       {'type': 'eq', 'fun': lambda x: np.sum(x) - 1})\n",
    "\n",
    "        # Limites pour les pondérations (entre 0 et 1)\n",
    "        bounds = [(0, 1) for _ in self._assets]\n",
    "\n",
    "        # Initialisation des pondérations (également réparties)\n",
    "        init_weights = np.array([1/len(self._assets) for _ in self._assets])\n",
    "\n",
    "        # Optimisation des pondérations pour minimiser la volatilité\n",
    "        result = minimize(objective, init_weights, method='SLSQP', bounds=bounds, constraints=constraints,options={'disp': True,'maxiter': 1000})\n",
    "\n",
    "        # Enregistrer les pondérations optimales\n",
    "        if result.success:\n",
    "            self._weights = result.x\n",
    "            print(f\"Pondérations optimales : {self._weights}\")\n",
    "            return self._weights\n",
    "        else:\n",
    "            print(\"L'optimisation a échoué.\")\n",
    "            return result\n",
    "\n",
    "  \n",
    "        \n",
    "        "
   ]
  },
  {
   "cell_type": "code",
   "execution_count": 84,
   "id": "ecc3e1ad",
   "metadata": {},
   "outputs": [
    {
     "data": {
      "text/plain": [
       "0.001971660511969642"
      ]
     },
     "execution_count": 84,
     "metadata": {},
     "output_type": "execute_result"
    }
   ],
   "source": [
    "##Rendment moyen journalier d'apple sur 2023\n",
    "apple_return = apple.calculate_return().mean()\n",
    "apple_return\n",
    "microsoft_return=microsoft.calculate_return().mean()\n",
    "microsoft_return"
   ]
  },
  {
   "cell_type": "markdown",
   "id": "2cdd8ff0",
   "metadata": {},
   "source": [
    "### Détails du portefeuille"
   ]
  },
  {
   "cell_type": "code",
   "execution_count": 98,
   "id": "ff0bf8ec",
   "metadata": {},
   "outputs": [
    {
     "name": "stdout",
     "output_type": "stream",
     "text": [
      "Détail du portefeuille :\n",
      "- apple: 80.00%\n",
      "- microsoft: 20.00%\n",
      "\n",
      "0.0018622738021389126\n",
      "7.972858036979826e-05\n"
     ]
    }
   ],
   "source": [
    "portfolio = Portfolio()\n",
    "portfolio.add_asset(apple,0.8)\n",
    "portfolio.add_asset(microsoft,0.2)\n",
    "## Détail du portfeuille\n",
    "print(portfolio.portfolio_summary())\n",
    "##Rendement du portfeuille\n",
    "print(portfolio.portfolio_return())\n",
    "## Volatilité du portfeuille\n",
    "print(portfolio.portfolio_volatility())"
   ]
  },
  {
   "cell_type": "markdown",
   "id": "44ef4653",
   "metadata": {},
   "source": [
    "### Optimisation du portfeuille pour un rendement cible de 0.02"
   ]
  },
  {
   "cell_type": "code",
   "execution_count": 17,
   "id": "279e905f",
   "metadata": {},
   "outputs": [
    {
     "name": "stdout",
     "output_type": "stream",
     "text": [
      "Optimization terminated successfully    (Exit mode 0)\n",
      "            Current function value: 8.092193174275518e-05\n",
      "            Iterations: 2\n",
      "            Function evaluations: 6\n",
      "            Gradient evaluations: 2\n",
      "Pondérations optimales : [0.81662942 0.18337058]\n"
     ]
    }
   ],
   "source": [
    "target_return = 0.00186\n",
    "optimal_weights = portfolio.optimize_portfolio(target_return)\n"
   ]
  },
  {
   "cell_type": "markdown",
   "id": "c65d625c",
   "metadata": {},
   "source": [
    "### Avant de calculer la Var du portfeuille, analysons la distribution des rendments de chaque actifs"
   ]
  },
  {
   "cell_type": "code",
   "execution_count": 18,
   "id": "7d932e16",
   "metadata": {},
   "outputs": [],
   "source": [
    "microsoft_returns=microsoft.calculate_return().dropna()"
   ]
  },
  {
   "cell_type": "code",
   "execution_count": 19,
   "id": "1bc38806",
   "metadata": {},
   "outputs": [],
   "source": [
    "from scipy.stats import shapiro, normaltest"
   ]
  },
  {
   "cell_type": "code",
   "execution_count": 20,
   "id": "858a8266",
   "metadata": {},
   "outputs": [],
   "source": [
    "import matplotlib.pyplot as plt"
   ]
  },
  {
   "cell_type": "code",
   "execution_count": 21,
   "id": "98010869",
   "metadata": {},
   "outputs": [
    {
     "data": {
      "image/png": "[encoded data removed]",
      "text/plain": [
       "<Figure size 432x288 with 1 Axes>"
      ]
     },
     "metadata": {
      "needs_background": "light"
     },
     "output_type": "display_data"
    }
   ],
   "source": [
    "# Histogramme des rendements\n",
    "plt.hist(microsoft_returns, bins=20, edgecolor='k', alpha=0.7)\n",
    "plt.title(\"Distribution des rendements de microsoft\")\n",
    "plt.xlabel(\"Rendements\")\n",
    "plt.ylabel(\"Fréquence\")\n",
    "plt.show()"
   ]
  },
  {
   "cell_type": "code",
   "execution_count": 22,
   "id": "9e093a92",
   "metadata": {},
   "outputs": [
    {
     "name": "stdout",
     "output_type": "stream",
     "text": [
      "Shapiro-Wilk Test: Statistique=0.9855, p-value=0.0124\n",
      "Les rendements ne suivent pas une distribution normale (p <= 0.05).\n"
     ]
    }
   ],
   "source": [
    "#  Test de Shapiro-Wilk pour tester la normalité des rendemets\n",
    "shapiro_stat, shapiro_p = shapiro(microsoft_returns)\n",
    "print(f\"Shapiro-Wilk Test: Statistique={shapiro_stat:.4f}, p-value={shapiro_p:.4f}\")\n",
    "if shapiro_p > 0.05:\n",
    "    print(\"Les rendements suivent une distribution normale (p > 0.05).\")\n",
    "else:\n",
    "    print(\"Les rendements ne suivent pas une distribution normale (p <= 0.05).\")\n"
   ]
  },
  {
   "cell_type": "code",
   "execution_count": 23,
   "id": "00d42bff",
   "metadata": {},
   "outputs": [],
   "source": [
    "apple_returns=apple.calculate_return().dropna()"
   ]
  },
  {
   "cell_type": "code",
   "execution_count": 94,
   "id": "59ec315b",
   "metadata": {},
   "outputs": [
    {
     "data": {
      "image/png": "[encoded data removed]",
      "text/plain": [
       "<Figure size 432x288 with 1 Axes>"
      ]
     },
     "metadata": {
      "needs_background": "light"
     },
     "output_type": "display_data"
    }
   ],
   "source": [
    "# Histogramme des rendements\n",
    "plt.hist(apple_returns, bins=20, edgecolor='k', alpha=0.7)\n",
    "plt.title(\"Distribution des rendements d'apple\")\n",
    "plt.xlabel(\"Rendements\")\n",
    "plt.ylabel(\"Fréquence\")\n",
    "plt.show()"
   ]
  },
  {
   "cell_type": "code",
   "execution_count": 25,
   "id": "21fce9c0",
   "metadata": {},
   "outputs": [
    {
     "name": "stdout",
     "output_type": "stream",
     "text": [
      "Shapiro-Wilk Test: Statistique=0.9857, p-value=0.0137\n",
      "Les rendements ne suivent pas une distribution normale (p <= 0.05).\n"
     ]
    }
   ],
   "source": [
    "# 1. Test de Shapiro-Wilk\n",
    "shapiro_stat, shapiro_p = shapiro(apple_returns)\n",
    "print(f\"Shapiro-Wilk Test: Statistique={shapiro_stat:.4f}, p-value={shapiro_p:.4f}\")\n",
    "if shapiro_p > 0.05:\n",
    "    print(\"Les rendements suivent une distribution normale (p > 0.05).\")\n",
    "else:\n",
    "    print(\"Les rendements ne suivent pas une distribution normale (p <= 0.05).\")\n"
   ]
  },
  {
   "cell_type": "markdown",
   "id": "2368c40f",
   "metadata": {},
   "source": [
    "###  QQ-plot pour comparer la distribution empirique avec une distribution normale."
   ]
  },
  {
   "cell_type": "code",
   "execution_count": 26,
   "id": "faeebcd9",
   "metadata": {},
   "outputs": [],
   "source": [
    "import statsmodels.api as sm"
   ]
  },
  {
   "cell_type": "code",
   "execution_count": 27,
   "id": "d33d8dd5",
   "metadata": {},
   "outputs": [
    {
     "name": "stderr",
     "output_type": "stream",
     "text": [
      "C:\\Users\\tarik\\anaconda3\\lib\\site-packages\\statsmodels\\graphics\\gofplots.py:993: UserWarning: marker is redundantly defined by the 'marker' keyword argument and the fmt string \"bo\" (-> marker='o'). The keyword argument will take precedence.\n",
      "  ax.plot(x, y, fmt, **plot_style)\n"
     ]
    },
    {
     "data": {
      "image/png": "[encoded data removed]",
      "text/plain": [
       "<Figure size 432x288 with 1 Axes>"
      ]
     },
     "metadata": {
      "needs_background": "light"
     },
     "output_type": "display_data"
    }
   ],
   "source": [
    "\n",
    "sm.qqplot(apple_returns, line='s')\n",
    "plt.title(\"QQ-plot des rendements d'apple\")\n",
    "plt.show()"
   ]
  },
  {
   "cell_type": "code",
   "execution_count": 28,
   "id": "6166e8af",
   "metadata": {},
   "outputs": [
    {
     "name": "stderr",
     "output_type": "stream",
     "text": [
      "C:\\Users\\tarik\\anaconda3\\lib\\site-packages\\statsmodels\\graphics\\gofplots.py:993: UserWarning: marker is redundantly defined by the 'marker' keyword argument and the fmt string \"bo\" (-> marker='o'). The keyword argument will take precedence.\n",
      "  ax.plot(x, y, fmt, **plot_style)\n"
     ]
    },
    {
     "data": {
      "image/png": "[encoded data removed]",
      "text/plain": [
       "<Figure size 432x288 with 1 Axes>"
      ]
     },
     "metadata": {
      "needs_background": "light"
     },
     "output_type": "display_data"
    }
   ],
   "source": [
    "sm.qqplot(microsoft_returns, line='s')\n",
    "plt.title(\"QQ-plot des rendements de microsoft\")\n",
    "plt.show()"
   ]
  },
  {
   "cell_type": "markdown",
   "id": "8c1ffd19",
   "metadata": {},
   "source": [
    "### Dans cette partie je calcule la VaR historique et la CVaR sur les actions d'apple"
   ]
  },
  {
   "cell_type": "markdown",
   "id": "d99cce69",
   "metadata": {},
   "source": [
    "#### VaR historique"
   ]
  },
  {
   "cell_type": "code",
   "execution_count": 62,
   "id": "c8f4a162",
   "metadata": {},
   "outputs": [
    {
     "name": "stdout",
     "output_type": "stream",
     "text": [
      "VaR à 5.0% : -0.0172\n"
     ]
    }
   ],
   "source": [
    "### VAR HISTORIQUE\n",
    "# Définir le niveau de confiance\n",
    "alpha = 0.05  # Pour une VaR à 95 %, le seuil est 5 %\n",
    "# Calcul de la VaR pour les actions d apple en 2023\n",
    "VaR = np.percentile(apple_returns, alpha * 100)  ## ou 1-confidence level ?\n",
    "print(f\"VaR à {confidence_level * 100}% : {VaR:.4f}\")\n"
   ]
  },
  {
   "cell_type": "markdown",
   "id": "d85d06a3",
   "metadata": {},
   "source": [
    "##### CVAR"
   ]
  },
  {
   "cell_type": "code",
   "execution_count": 38,
   "id": "116462c1",
   "metadata": {},
   "outputs": [],
   "source": [
    "losses_beyond_var=apple_returns[apple_returns<VaR]"
   ]
  },
  {
   "cell_type": "code",
   "execution_count": 39,
   "id": "47198284",
   "metadata": {
    "scrolled": true
   },
   "outputs": [
    {
     "name": "stdout",
     "output_type": "stream",
     "text": [
      "CVaR à 5.0% : -0.0250\n"
     ]
    }
   ],
   "source": [
    "CVAR=losses_beyond_var.mean()\n",
    "print(f\"CVaR à {confidence_level * 100}% : {CVAR:.4f}\")"
   ]
  },
  {
   "cell_type": "markdown",
   "id": "b0ec70dd",
   "metadata": {},
   "source": [
    "##### Skewness is the third moment of a distribution after mean and variance.\n",
    "Negative skew: The mass of the distribution is concentrated on the right. Usually a right-leaning curve.\n",
    "\n",
    "Positive skew: The mass of the distribution is concentrated on the left. Usually a left-leaning curve.\n",
    "\n",
    "In finance, we would tend to want a positive skewness."
   ]
  },
  {
   "cell_type": "code",
   "execution_count": 32,
   "id": "6598c682",
   "metadata": {},
   "outputs": [
    {
     "name": "stdout",
     "output_type": "stream",
     "text": [
      "Skewness : 0.011689421693552004\n"
     ]
    }
   ],
   "source": [
    "from scipy.stats import skew, kurtosis\n",
    "\n",
    "print(f\"Skewness : {skew(apple_returns.dropna())}\")  "
   ]
  },
  {
   "cell_type": "code",
   "execution_count": 33,
   "id": "b4d8683e",
   "metadata": {},
   "outputs": [
    {
     "name": "stdout",
     "output_type": "stream",
     "text": [
      "Kurtosis : 1.3802884319996434\n"
     ]
    }
   ],
   "source": [
    "print(f\"Kurtosis : {kurtosis(apple_returns.dropna())}\")  "
   ]
  },
  {
   "cell_type": "markdown",
   "id": "184ed5b6",
   "metadata": {},
   "source": [
    "#### Ajuster une loi de student sur les rendements d'apple"
   ]
  },
  {
   "cell_type": "markdown",
   "id": "437e6e47",
   "metadata": {},
   "source": [
    "Le fait d'ajuster une loi (comme la loi t de Student) aux rendements signifie qu'on utilise cette loi pour modéliser les données. Cela se fait en estimant les paramètres de la loi (par exemple, degrés de liberté, moyenne, écart-type) pour qu'elle corresponde au mieux à la distribution observée des rendements (qui ne suivent pas une distribution normale)."
   ]
  },
  {
   "cell_type": "markdown",
   "id": "2c36198b",
   "metadata": {},
   "source": [
    "L'objectif est de trouver les paramètres optimaux de la loi t de Student (ν,μ,σ) pour qu'elle représente les rendements réels.\n",
    "\n",
    "La fonction t.fit estime les paramètres suivants :\n",
    "ν (degrés de liberté) : contrôle l'épaisseur des queues.\n",
    "μ (loc) : la moyenne des rendements ajustés.\n",
    "σ (scale) : l'écart-type ajusté."
   ]
  },
  {
   "cell_type": "code",
   "execution_count": 41,
   "id": "ffc6da48",
   "metadata": {},
   "outputs": [
    {
     "name": "stdout",
     "output_type": "stream",
     "text": [
      "Degrés de liberté (df): 7.327061481775338, Location (loc): 0.0017600216212331587, Scale: 0.010701322164030233\n"
     ]
    },
    {
     "data": {
      "image/png": "[encoded data removed]",
      "text/plain": [
       "<Figure size 432x288 with 1 Axes>"
      ]
     },
     "metadata": {
      "needs_background": "light"
     },
     "output_type": "display_data"
    }
   ],
   "source": [
    "from scipy.stats import t,norm\n",
    "\n",
    "# Ajuster une loi t de Student sur les rendements d'apple\n",
    "data = apple_returns \n",
    "df, loc, scale = t.fit(data)  # Paramètres de la loi t\n",
    "print(f\"Degrés de liberté (df): {df}, Location (loc): {loc}, Scale: {scale}\")\n",
    "\n",
    "# Comparer la densité des rendements avec la loi t ajustée\n",
    "\n",
    "x = np.linspace(min(data), max(data), 100)\n",
    "pdf = t.pdf(x, df, loc, scale)\n",
    "plt.hist(data, bins=20, density=True, alpha=0.7, label=\"Données\")\n",
    "plt.plot(x, pdf, label=\"Loi t ajustée\", color=\"red\")\n",
    "plt.legend()\n",
    "plt.show()"
   ]
  },
  {
   "cell_type": "markdown",
   "id": "e2d8560e",
   "metadata": {},
   "source": [
    "### Ajustement de la VaR et de la CVaR"
   ]
  },
  {
   "cell_type": "code",
   "execution_count": 36,
   "id": "af027f76",
   "metadata": {},
   "outputs": [
    {
     "name": "stdout",
     "output_type": "stream",
     "text": [
      "VaR (ajustée) : -0.0184\n",
      "CVaR (ajustée) : -0.0289\n"
     ]
    }
   ],
   "source": [
    "# Simuler des rendements non normaux (par exemple, loi t)\n",
    "returns = apple_returns  # Rendements \n",
    "\n",
    "# Ajuster les paramètres de la loi t\n",
    "df, loc, scale = t.fit(returns)\n",
    "\n",
    "# Calcul de la VaR pour cette distribution\n",
    "# La VaR à un niveau α est le quantile q=α d'une distribution de pertes\n",
    "alpha=0.05\n",
    "VaR_t = t.ppf(alpha, df, loc, scale)\n",
    "\n",
    "# Calcul de la CVaR pour cette distribution\n",
    "CVaR_t = t.expect(lambda x: x, args=(df,), lb=-np.inf, ub=VaR, loc=loc, scale=scale) / alpha\n",
    "\n",
    "print(f\"VaR (ajustée) : {VaR_t:.4f}\")\n",
    "print(f\"CVaR (ajustée) : {CVaR_t:.4f}\")"
   ]
  },
  {
   "cell_type": "markdown",
   "id": "f1794edf",
   "metadata": {},
   "source": [
    "## Calcul de la Var Parametrique de mon portfeuille"
   ]
  },
  {
   "cell_type": "code",
   "execution_count": 99,
   "id": "8667d9c3",
   "metadata": {},
   "outputs": [],
   "source": [
    "mean=portfolio.portfolio_return()\n",
    "quantile=norm.ppf(0.95, loc =0, scale = 1)\n",
    "std=portfolio.portfolio_volatility()\n"
   ]
  },
  {
   "cell_type": "code",
   "execution_count": 100,
   "id": "ed8da13e",
   "metadata": {},
   "outputs": [],
   "source": [
    "VaRp=mean-quantile*std"
   ]
  },
  {
   "cell_type": "code",
   "execution_count": 101,
   "id": "cba00262",
   "metadata": {},
   "outputs": [
    {
     "data": {
      "text/plain": [
       "0.001731131957545958"
      ]
     },
     "execution_count": 101,
     "metadata": {},
     "output_type": "execute_result"
    }
   ],
   "source": [
    "VaRp"
   ]
  },
  {
   "cell_type": "code",
   "execution_count": 105,
   "id": "d54760ce",
   "metadata": {},
   "outputs": [
    {
     "name": "stdout",
     "output_type": "stream",
     "text": [
      "VaR à 5.0% : -0.0157\n"
     ]
    }
   ],
   "source": [
    "### VAR HISTORIQUE\n",
    "# Définir le niveau de confiance\n",
    "alpha = 0.05  # Pour une VaR à 95 %, le seuil est 5 %\n",
    "# Calcul de la VaR pour les actions d apple en 2023\n",
    "VaR = np.percentile(portfolio.calculate_portfolio_returns(), alpha*100)  ## ou 1-confidence level ?\n",
    "print(f\"VaR à {confidence_level * 100}% : {VaR:.4f}\")\n"
   ]
  },
  {
   "cell_type": "code",
   "execution_count": 106,
   "id": "7fc389a3",
   "metadata": {},
   "outputs": [
    {
     "data": {
      "text/plain": [
       "-0.01571261549937094"
      ]
     },
     "execution_count": 106,
     "metadata": {},
     "output_type": "execute_result"
    }
   ],
   "source": [
    "np.percentile(portfolio.calculate_portfolio_returns(), alpha*100)"
   ]
  },
  {
   "cell_type": "markdown",
   "id": "c92d578f",
   "metadata": {},
   "source": [
    "### Visualiser les seuils de VaR et CVaR sur la distribution des rendements"
   ]
  },
  {
   "cell_type": "code",
   "execution_count": 523,
   "id": "a368a205",
   "metadata": {},
   "outputs": [
    {
     "data": {
      "image/png": "[encoded data removed]",
      "text/plain": [
       "<Figure size 720x432 with 1 Axes>"
      ]
     },
     "metadata": {
      "needs_background": "light"
     },
     "output_type": "display_data"
    }
   ],
   "source": [
    "# Création de l'histogramme\n",
    "alpha=0.05\n",
    "plt.figure(figsize=(10, 6))\n",
    "plt.hist(portfolio.calculate_portfolio_returns(), bins=30, density=True, alpha=0.6, color='skyblue', edgecolor='black')\n",
    "\n",
    "# Ajouter une ligne verticale pour la VaR\n",
    "plt.axvline(VaR_t, color='red', linestyle='--', label=f\"VaR ({alpha*100:.0f}%): {VaR:.4f}\")\n",
    "\n",
    "# Ajouter une ligne verticale pour la CVaR\n",
    "plt.axvline(CVaR_t, color='orange', linestyle='--', label=f\"CVaR ({alpha*100:.0f}%): {CVaR_t:.4f}\")\n",
    "\n",
    "# Ajouter des annotations\n",
    "plt.title(\"Distribution des Rendements avec VaR et CVaR\", fontsize=14)\n",
    "plt.xlabel(\"Rendements\", fontsize=12)\n",
    "plt.ylabel(\"Densité\", fontsize=12)\n",
    "plt.legend(fontsize=10)\n",
    "\n",
    "# Afficher le graphique\n",
    "plt.grid(alpha=0.3)\n",
    "plt.show()"
   ]
  },
  {
   "cell_type": "code",
   "execution_count": null,
   "id": "2d9bbd87",
   "metadata": {},
   "outputs": [],
   "source": []
  },
  {
   "cell_type": "markdown",
   "id": "7bbffbf4",
   "metadata": {},
   "source": [
    "VaR (ligne rouge) :\n",
    "\n",
    "Indique la perte maximale pour un niveau de confiance donné (α=5%).\n",
    "Tout ce qui est à gauche de cette ligne représente des pertes extrêmes au-delà du seuil.\n",
    "CVaR (ligne orange) :\n",
    "\n",
    "Représente la perte moyenne conditionnelle au dépassement de la VaR.\n",
    "Elle est plus négative que la VaR, car elle inclut toutes les pertes extrêmes.\n"
   ]
  }
 ],
 "metadata": {
  "kernelspec": {
   "display_name": "Python 3 (ipykernel)",
   "language": "python",
   "name": "python3"
  },
  "language_info": {
   "codemirror_mode": {
    "name": "ipython",
    "version": 3
   },
   "file_extension": ".py",
   "mimetype": "text/x-python",
   "name": "python",
   "nbconvert_exporter": "python",
   "pygments_lexer": "ipython3",
   "version": "3.9.7"
  }
 },
 "nbformat": 4,
 "nbformat_minor": 5
}
