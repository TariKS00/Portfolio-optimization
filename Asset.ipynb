{
 "cells": [
  {
   "cell_type": "code",
   "execution_count": 96,
   "id": "2a18ccc6",
   "metadata": {},
   "outputs": [],
   "source": [
    "from abc import ABC, abstractmethod"
   ]
  },
  {
   "cell_type": "code",
   "execution_count": 97,
   "id": "6691f707",
   "metadata": {},
   "outputs": [],
   "source": [
    "import yfinance as yf\n",
    "import pandas as pd"
   ]
  },
  {
   "cell_type": "code",
   "execution_count": 98,
   "id": "65c55623",
   "metadata": {},
   "outputs": [
    {
     "name": "stderr",
     "output_type": "stream",
     "text": [
      "[*********************100%***********************]  2 of 2 completed\n",
      "\n",
      "2 Failed downloads:\n",
      "['MSFT', 'AAPL']: JSONDecodeError('Expecting value: line 1 column 1 (char 0)')\n"
     ]
    }
   ],
   "source": [
    "tickers = [\"AAPL\", \"MSFT\"]\n",
    "data= yf.download(tickers, start=\"2023-01-01\", end=\"2024-01-01\")['Close']"
   ]
  },
  {
   "cell_type": "code",
   "execution_count": 99,
   "id": "7cd87ca2",
   "metadata": {},
   "outputs": [],
   "source": [
    "data = pd.read_csv(\"C:/Users/tarik/Downloads/data.csv\")"
   ]
  },
  {
   "cell_type": "code",
   "execution_count": 100,
   "id": "7aa7cdc1",
   "metadata": {},
   "outputs": [
    {
     "data": {
      "text/html": [
       "<div>\n",
       "<style scoped>\n",
       "    .dataframe tbody tr th:only-of-type {\n",
       "        vertical-align: middle;\n",
       "    }\n",
       "\n",
       "    .dataframe tbody tr th {\n",
       "        vertical-align: top;\n",
       "    }\n",
       "\n",
       "    .dataframe thead th {\n",
       "        text-align: right;\n",
       "    }\n",
       "</style>\n",
       "<table border=\"1\" class=\"dataframe\">\n",
       "  <thead>\n",
       "    <tr style=\"text-align: right;\">\n",
       "      <th></th>\n",
       "      <th>Date</th>\n",
       "      <th>AAPL</th>\n",
       "      <th>MSFT</th>\n",
       "    </tr>\n",
       "  </thead>\n",
       "  <tbody>\n",
       "    <tr>\n",
       "      <th>0</th>\n",
       "      <td>2023-01-03</td>\n",
       "      <td>123.632523</td>\n",
       "      <td>235.240036</td>\n",
       "    </tr>\n",
       "    <tr>\n",
       "      <th>1</th>\n",
       "      <td>2023-01-04</td>\n",
       "      <td>124.907715</td>\n",
       "      <td>224.949875</td>\n",
       "    </tr>\n",
       "    <tr>\n",
       "      <th>2</th>\n",
       "      <td>2023-01-05</td>\n",
       "      <td>123.583099</td>\n",
       "      <td>218.282852</td>\n",
       "    </tr>\n",
       "    <tr>\n",
       "      <th>3</th>\n",
       "      <td>2023-01-06</td>\n",
       "      <td>128.130234</td>\n",
       "      <td>220.855408</td>\n",
       "    </tr>\n",
       "    <tr>\n",
       "      <th>4</th>\n",
       "      <td>2023-01-09</td>\n",
       "      <td>128.654144</td>\n",
       "      <td>223.005753</td>\n",
       "    </tr>\n",
       "  </tbody>\n",
       "</table>\n",
       "</div>"
      ],
      "text/plain": [
       "         Date        AAPL        MSFT\n",
       "0  2023-01-03  123.632523  235.240036\n",
       "1  2023-01-04  124.907715  224.949875\n",
       "2  2023-01-05  123.583099  218.282852\n",
       "3  2023-01-06  128.130234  220.855408\n",
       "4  2023-01-09  128.654144  223.005753"
      ]
     },
     "execution_count": 100,
     "metadata": {},
     "output_type": "execute_result"
    }
   ],
   "source": [
    "data.head()"
   ]
  },
  {
   "cell_type": "code",
   "execution_count": 101,
   "id": "5e76088a",
   "metadata": {},
   "outputs": [],
   "source": [
    "class Asset(ABC):\n",
    "    def __init__(self, name):\n",
    "        self.name = name\n",
    "\n",
    "    @abstractmethod\n",
    "    def calculate_return(self):\n",
    "        pass"
   ]
  },
  {
   "cell_type": "code",
   "execution_count": 102,
   "id": "a6896ce4",
   "metadata": {},
   "outputs": [],
   "source": [
    "class Stock(Asset):\n",
    "    \n",
    "    def __init__(self, name, prices):\n",
    "        super().__init__(name)\n",
    "        self.prices = prices\n",
    "        \n",
    "    def calculate_return(self):\n",
    "        return self.prices.pct_change().dropna()\n",
    "        "
   ]
  },
  {
   "cell_type": "code",
   "execution_count": 103,
   "id": "9824106c",
   "metadata": {},
   "outputs": [],
   "source": [
    "apple_stock_prices = data['AAPL']\n",
    "microsoft_stock_prices=data['MSFT']\n",
    "apple=Stock('apple',apple_stock_prices)\n",
    "microsoft=Stock('microsoft',microsoft_stock_prices)"
   ]
  },
  {
   "cell_type": "code",
   "execution_count": 104,
   "id": "a9ec8858",
   "metadata": {},
   "outputs": [
    {
     "data": {
      "text/plain": [
       "0.0018349275048018866"
      ]
     },
     "execution_count": 104,
     "metadata": {},
     "output_type": "execute_result"
    }
   ],
   "source": [
    "apple.calculate_return().mean()"
   ]
  },
  {
   "cell_type": "markdown",
   "id": "37d76f06",
   "metadata": {},
   "source": [
    "## Class Portfolio "
   ]
  },
  {
   "cell_type": "code",
   "execution_count": 105,
   "id": "51ec7816",
   "metadata": {},
   "outputs": [],
   "source": [
    "import numpy as np\n",
    "from scipy.optimize import minimize\n",
    "\n",
    "\n",
    "class Portfolio():\n",
    "    def __init__(self):\n",
    "        self._assets=[]\n",
    "        self._weights=[]\n",
    "        \n",
    "    def get_assets(self):\n",
    "        return self._assets\n",
    "    \n",
    "    \n",
    "    def set_assets(self, assets):\n",
    "        if not isinstance(assets, list):\n",
    "            raise TypeError(\"Les actifs doivent être une liste.\")\n",
    "        self._assets = assets\n",
    "        \n",
    "        \n",
    "        \n",
    "    def get_weights(self):\n",
    "        return self._weights\n",
    "    \n",
    "\n",
    "    def set_weights(self, weights):\n",
    "        if not all(0 <= w <= 1 for w in weights):\n",
    "            raise ValueError(\"Les poids doivent être entre 0 et 1.\")\n",
    "        if sum(weights) > 1:\n",
    "            raise ValueError(\"La somme des poids ne peut pas dépasser 1.\")\n",
    "        self._weights = weights\n",
    "        \n",
    "    \n",
    "    def add_asset(self,asset,weight):\n",
    "        self._weights.append(weight)\n",
    "        if not isinstance(asset, Asset):\n",
    "            raise TypeError(\"L'objet ajouté doit être une instance de la classe Asset.\")\n",
    "        self._assets.append(asset)\n",
    "       \n",
    "        \n",
    "        \n",
    "    def portfolio_summary(self):\n",
    "        details = \"Détail du portefeuille :\\n\"\n",
    "        for asset, weight in zip(self._assets, self._weights):\n",
    "            details += f\"- {asset.name}: {weight*100:.2f}%\\n\"\n",
    "        return details\n",
    "    \n",
    "    \n",
    "    def portfolio_return(self):\n",
    "        # Calcul du rendement moyen pondéré\n",
    "        returns = [asset.calculate_return() for asset in self._assets]\n",
    "        rendement = sum(weight * returns[i].mean() for i, weight in enumerate(self._weights))\n",
    "        return rendement\n",
    "    \n",
    "    \n",
    "    def portfolio_returns(self):\n",
    "        all_returns = [asset.calculate_return() for asset in self._assets]\n",
    "\n",
    "        # Combinaison des rendements pondérés\n",
    "        weighted_returns = np.sum([returns * weight for returns, weight in zip(all_returns, self._weights)], axis=0)\n",
    "        return weighted_returns\n",
    "    \n",
    "\n",
    "    def portfolio_volatility(self):\n",
    "        returns=np.array([asset.calculate_return() for asset in self._assets])\n",
    "        weights=np.array(self._weights)\n",
    "        cov_mat=np.cov(returns)\n",
    "        return np.sqrt(np.dot(weights.T, np.dot(cov_mat, weights)))\n",
    "    \n",
    "        \n",
    "    ## Optimisation du portfeuille\n",
    "   \n",
    "    ## La méthode suivante optimise les pondérations des actifs pour minimiser le risque pour un rendement donné,\n",
    "    ##   elle retourne les pondérations optimales pour atteindre le rendement cible\n",
    "    \n",
    "    \n",
    "    def optimize_portfolio(self, target_return):\n",
    "        ### target_return: Rendement cible du portefeuille\n",
    "            \n",
    "    \n",
    "        # Fonction objectif pour minimiser la volatilité\n",
    "        def objective(weights):\n",
    "            returns = np.array([asset.calculate_return() for asset in self._assets])\n",
    "            cov_mat = np.cov(returns)\n",
    "            portfolio_volatility = np.sqrt(np.dot(weights.T, np.dot(cov_mat, weights)))\n",
    "            return portfolio_volatility\n",
    "    \n",
    "    \n",
    "        # Contrainte : le rendement du portefeuille doit être égal au rendement cible\n",
    "        def return_constraint(weights):\n",
    "            returns = np.array([asset.calculate_return().mean() for asset in self._assets])\n",
    "            portfolio_return = np.dot(weights, returns)\n",
    "            return portfolio_return - target_return\n",
    "        \n",
    "        # Contrainte : la somme des pondérations doit être égale à 1\n",
    "        constraints = ({'type': 'eq', 'fun': return_constraint},\n",
    "                       {'type': 'eq', 'fun': lambda x: np.sum(x) - 1})\n",
    "\n",
    "        # Limites pour les pondérations (entre 0 et 1)\n",
    "        bounds = [(0, 1) for _ in self._assets]\n",
    "\n",
    "        # Initialisation des pondérations (également réparties)\n",
    "        init_weights = np.array([1/len(self._assets) for _ in self._assets])\n",
    "\n",
    "        # Optimisation des pondérations pour minimiser la volatilité\n",
    "        result = minimize(objective, init_weights, method='SLSQP', bounds=bounds, constraints=constraints,options={'disp': True,'maxiter': 1000})\n",
    "\n",
    "        # Enregistrer les pondérations optimales\n",
    "        if result.success:\n",
    "            self._weights = result.x\n",
    "            print(f\"Pondérations optimales : {self._weights}\")\n",
    "            return self._weights\n",
    "        else:\n",
    "            print(\"L'optimisation a échoué.\")\n",
    "            return result\n",
    "\n",
    "       \n",
    "    ## La méthode suivante optimise les pondérations des actifs pour maximiser le ratio de Sharpe pour un rendement donné,\n",
    "    ##   elle retourne les pondérations optimales pour atteindre le rendement cible  \n",
    "        \n",
    "        \n",
    "    def optimize_portfolio2(self,target_return):\n",
    "            \n",
    "        # Fonction objectif pour minimiser la volatilité\n",
    "        def negative_sharpe_ratio(weights):\n",
    "            returns=np.array([asset.calculate_return() for asset in self._assets])\n",
    "            weights=np.array(weights)\n",
    "            cov_mat=np.cov(returns)\n",
    "            std=np.sqrt(np.dot(weights.T, np.dot(cov_mat, weights)))\n",
    "            rendement = sum(weight * returns[i].mean() for i, weight in enumerate(weights))\n",
    "            return -rendement/std\n",
    "    \n",
    "    \n",
    "        def return_constraint(weights):\n",
    "            returns = np.array([asset.calculate_return() for asset in self._assets])\n",
    "            rendement = sum(weight * returns[i].mean() for i, weight in enumerate(weights))\n",
    "            return rendement - target_return\n",
    "        \n",
    "        # Contrainte : la somme des pondérations doit être égale à 1\n",
    "        constraints = ({'type': 'eq', 'fun': return_constraint},\n",
    "                       {'type': 'eq', 'fun': lambda x: np.sum(x) - 1})\n",
    "\n",
    "        # Limites pour les pondérations (entre 0 et 1)\n",
    "        bounds = [(0, 1) for _ in self._assets]\n",
    "\n",
    "        # Initialisation des pondérations (également réparties)\n",
    "        init_weights = np.array([1/len(self._assets) for _ in self._assets])\n",
    "\n",
    "        # Optimisation des pondérations pour minimiser la volatilité\n",
    "        result = minimize(negative_sharpe_ratio, init_weights, method='SLSQP', bounds=bounds, constraints=constraints,options={'disp': True,'maxiter': 1000})\n",
    "\n",
    "        # Enregistrer les pondérations optimales\n",
    "        if result.success:\n",
    "            self._weights = result.x\n",
    "            #print(f\"Pondérations optimales : {self._weights}\")\n",
    "            return result\n",
    "        else:\n",
    "            print(\"L'optimisation a échoué.\")\n",
    "            return result\n",
    "  \n",
    "        \n",
    "        "
   ]
  },
  {
   "cell_type": "markdown",
   "id": "2cdd8ff0",
   "metadata": {},
   "source": [
    "### Détails du portefeuille"
   ]
  },
  {
   "cell_type": "code",
   "execution_count": 106,
   "id": "ff0bf8ec",
   "metadata": {},
   "outputs": [
    {
     "name": "stdout",
     "output_type": "stream",
     "text": [
      "Détail du portefeuille :\n",
      "- apple: 50.00%\n",
      "- microsoft: 50.00%\n",
      "\n",
      "Rendement: 0.0019032939601142252\n",
      "Volatilité:0.012514191052052951\n"
     ]
    }
   ],
   "source": [
    "portfolio = Portfolio()\n",
    "portfolio.add_asset(apple,0.5)\n",
    "portfolio.add_asset(microsoft,0.5)\n",
    "## Détail du portfeuille\n",
    "print(portfolio.portfolio_summary())\n",
    "##Rendement du portfeuille\n",
    "print(f\"Rendement: {portfolio.portfolio_return()}\")\n",
    "## Volatilité du portfeuille\n",
    "print(f\"Volatilité:{portfolio.portfolio_volatility()}\")\n"
   ]
  },
  {
   "cell_type": "markdown",
   "id": "9160642a",
   "metadata": {},
   "source": [
    "### Optimisation du portfeuille en maximisant le ratio de Sharpe"
   ]
  },
  {
   "cell_type": "code",
   "execution_count": 107,
   "id": "b1ebc100",
   "metadata": {},
   "outputs": [
    {
     "name": "stdout",
     "output_type": "stream",
     "text": [
      "Optimization terminated successfully    (Exit mode 0)\n",
      "            Current function value: -0.1528636436327059\n",
      "            Iterations: 2\n",
      "            Function evaluations: 6\n",
      "            Gradient evaluations: 2\n"
     ]
    }
   ],
   "source": [
    "optimal_weights = portfolio.optimize_portfolio2(0.0019)"
   ]
  },
  {
   "cell_type": "code",
   "execution_count": 108,
   "id": "c2a23327",
   "metadata": {},
   "outputs": [
    {
     "name": "stdout",
     "output_type": "stream",
     "text": [
      "Détail du portefeuille :\n",
      "- apple: 52.41%\n",
      "- microsoft: 47.59%\n",
      "\n",
      "Rendement: 0.0018999999999752088\n",
      "Volatilité:0.012429377939861527\n"
     ]
    }
   ],
   "source": [
    "print(portfolio.portfolio_summary())\n",
    "##Rendement du portfeuille\n",
    "print(f\"Rendement: {portfolio.portfolio_return()}\")\n",
    "## Volatilité du portfeuille\n",
    "print(f\"Volatilité:{portfolio.portfolio_volatility()}\")"
   ]
  },
  {
   "cell_type": "markdown",
   "id": "46b01c0e",
   "metadata": {},
   "source": [
    "### Dans cette partie nous allons donner une liste de rendements cibles à atteindre et nous allons visualiser dans un graphique les portfeuilles optimaux"
   ]
  },
  {
   "cell_type": "code",
   "execution_count": 109,
   "id": "0f6d56ec",
   "metadata": {},
   "outputs": [
    {
     "name": "stdout",
     "output_type": "stream",
     "text": [
      "Optimization terminated successfully    (Exit mode 0)\n",
      "            Current function value: -0.14597613020252304\n",
      "            Iterations: 2\n",
      "            Function evaluations: 6\n",
      "            Gradient evaluations: 2\n",
      "Optimization terminated successfully    (Exit mode 0)\n",
      "            Current function value: -0.15500496899867186\n",
      "            Iterations: 2\n",
      "            Function evaluations: 6\n",
      "            Gradient evaluations: 2\n",
      "Optimization terminated successfully    (Exit mode 0)\n",
      "            Current function value: -0.15209085047506848\n",
      "            Iterations: 1\n",
      "            Function evaluations: 3\n",
      "            Gradient evaluations: 1\n",
      "Optimization terminated successfully    (Exit mode 0)\n",
      "            Current function value: -0.13996882051154502\n",
      "            Iterations: 2\n",
      "            Function evaluations: 6\n",
      "            Gradient evaluations: 2\n",
      "Optimization terminated successfully    (Exit mode 0)\n",
      "            Current function value: -0.1245966617263406\n",
      "            Iterations: 2\n",
      "            Function evaluations: 6\n",
      "            Gradient evaluations: 2\n"
     ]
    }
   ],
   "source": [
    "#Initialisation du portfeuille\n",
    "portfolio = Portfolio()\n",
    "portfolio.add_asset(apple,0.5)\n",
    "portfolio.add_asset(microsoft,0.5)\n",
    "\n",
    "#Rendements des actifs du portfeuille\n",
    "mu=[asset.calculate_return().mean() for asset in portfolio._assets]\n",
    "# Liste de rendements cibles\n",
    "\n",
    "target_returns = np.linspace(min(mu), max(mu),5)\n",
    "\n",
    "\n",
    "# Initialisation des listes pour stocker les résultats\n",
    "weights_list = []\n",
    "returns_list = []\n",
    "stds_list = []\n",
    "sharpe=[]\n",
    "\n",
    "# Optimisation pour chaque rendement cible\n",
    "for target in target_returns:\n",
    "    result=portfolio.optimize_portfolio2(target)\n",
    "    weights_list.append(portfolio._weights)\n",
    "    returns_list.append(portfolio.portfolio_return())\n",
    "    stds_list.append(portfolio.portfolio_volatility())\n",
    "    sharpe.append(result.fun)"
   ]
  },
  {
   "cell_type": "code",
   "execution_count": 110,
   "id": "de7045b7",
   "metadata": {},
   "outputs": [
    {
     "data": {
      "image/png": "[encoded data removed]",
      "text/plain": [
       "<Figure size 432x288 with 1 Axes>"
      ]
     },
     "metadata": {
      "needs_background": "light"
     },
     "output_type": "display_data"
    }
   ],
   "source": [
    "import matplotlib.pyplot as plt\n",
    "plt.plot(stds_list, returns_list, '-o')\n",
    "#plt.plot([0, max(stds_list)], [0.0004, max(returns_list)], 'r--')\n",
    "\n",
    "plt.xlabel('Volatilité')\n",
    "plt.ylabel('Rendement attendu')\n",
    "plt.title('Frontière Efficiente')\n",
    "#plt.axis([0.1, 0.15,0.00175, 0.002])\n",
    "plt.show()"
   ]
  },
  {
   "cell_type": "code",
   "execution_count": 111,
   "id": "35b5cc7b",
   "metadata": {},
   "outputs": [],
   "source": [
    "# Je prends la valeur absolue des ratios de Sharpe pour trouver la valeur maximale\n",
    "Sharpe = list(map(lambda x: x * -1, sharpe))\n",
    "# Je prends l'index max du plus grand ratio de sharpe\n",
    "index_max, valeur_max = max(enumerate(Sharpe), key=lambda x: x[1])\n",
    "weights_list=np.array(weights_list)\n",
    "returns_list=np.array(returns_list)\n",
    "# Calcul du rendement et du risque du portefeuille optimal en se basant sur le meilleur ratio de Sharpe\n",
    "p_return_max_sharpe = returns_list[index_max]\n",
    "p_std_max_sharpe = stds_list[index_max]"
   ]
  },
  {
   "cell_type": "code",
   "execution_count": 112,
   "id": "793c40ac",
   "metadata": {},
   "outputs": [
    {
     "data": {
      "image/png": "[encoded data removed]",
      "text/plain": [
       "<Figure size 432x288 with 1 Axes>"
      ]
     },
     "metadata": {
      "needs_background": "light"
     },
     "output_type": "display_data"
    }
   ],
   "source": [
    "# Tracer la frontière efficiente et la droite de marché\n",
    "# Tracer la frontière efficiente\n",
    "\n",
    "risk_free_rate=0.0004\n",
    "#plt.plot([0, p_std_max_sharpe], [risk_free_rate, p_return_max_sharpe], 'r-', label='Droite de marché')\n",
    "plt.plot(stds_list, returns_list, '-o')\n",
    "\n",
    "# Définir un intervalle plus large pour x\n",
    "x = np.linspace(0, p_std_max_sharpe * 1.5, 100)\n",
    "# Calculer les valeurs de y correspondantes (en utilisant la bonne équation de la droite)\n",
    "y = risk_free_rate + (p_return_max_sharpe - risk_free_rate) / p_std_max_sharpe * x\n",
    "# Tracer la droite\n",
    "plt.plot(x, y, 'r-', label='Droite de marché')\n",
    "# Vérifier que la droite passe bien par le point (p_std_max_sharpe, p_return_max_sharpe)\n",
    "plt.scatter(p_std_max_sharpe, p_return_max_sharpe, color='blue', marker='o')\n",
    "\n",
    "#plt.annotate(f\"Poids: {weights_list[index_max]}\", xy=(p_std_max_sharpe, p_return_max_sharpe))\n",
    "\n",
    "plt.xlabel('Volatilité')\n",
    "plt.ylabel('Rendement attendu')\n",
    "plt.title('Frontière Efficiente')\n",
    "plt.axis([0.01, 0.0175,0.00175, 0.002])\n",
    "plt.show()"
   ]
  },
  {
   "cell_type": "markdown",
   "id": "44ef4653",
   "metadata": {},
   "source": [
    "### Optimisation du portfeuille en minimisant la volatilité pour un rendement cible x"
   ]
  },
  {
   "cell_type": "code",
   "execution_count": 113,
   "id": "279e905f",
   "metadata": {},
   "outputs": [
    {
     "name": "stdout",
     "output_type": "stream",
     "text": [
      "Optimization terminated successfully    (Exit mode 0)\n",
      "            Current function value: 0.012058392349026507\n",
      "            Iterations: 2\n",
      "            Function evaluations: 6\n",
      "            Gradient evaluations: 2\n",
      "Pondérations optimales : [0.75 0.25]\n"
     ]
    }
   ],
   "source": [
    "#Initialisation du portfeuille\n",
    "portfolio = Portfolio()\n",
    "portfolio.add_asset(apple,0.5)\n",
    "portfolio.add_asset(microsoft,0.5)\n",
    "\n",
    "#Je prends comme rendement target la rendement optimal, j'aurais normalement les memes resultats\n",
    "target_return = p_return_max_sharpe\n",
    "optimal_weights = portfolio.optimize_portfolio(target_return)\n"
   ]
  },
  {
   "cell_type": "code",
   "execution_count": 114,
   "id": "0e7284ab",
   "metadata": {},
   "outputs": [
    {
     "name": "stdout",
     "output_type": "stream",
     "text": [
      "Détail du portefeuille :\n",
      "- apple: 75.00%\n",
      "- microsoft: 25.00%\n",
      "\n",
      "Rendement: 0.0018691107319435143\n",
      "Volatilité:0.012058392349026507\n"
     ]
    }
   ],
   "source": [
    "print(portfolio.portfolio_summary())\n",
    "##Rendement du portfeuille\n",
    "print(f\"Rendement: {portfolio.portfolio_return()}\")\n",
    "## Volatilité du portfeuille\n",
    "print(f\"Volatilité:{portfolio.portfolio_volatility()}\")"
   ]
  },
  {
   "cell_type": "markdown",
   "id": "c65d625c",
   "metadata": {},
   "source": [
    "### Avant de calculer la Var du portfeuille, analysons la distribution des rendments de chaque actifs"
   ]
  },
  {
   "cell_type": "code",
   "execution_count": 115,
   "id": "1bc38806",
   "metadata": {},
   "outputs": [],
   "source": [
    "from scipy.stats import shapiro, normaltest"
   ]
  },
  {
   "cell_type": "code",
   "execution_count": 116,
   "id": "858a8266",
   "metadata": {},
   "outputs": [],
   "source": [
    "import matplotlib.pyplot as plt"
   ]
  },
  {
   "cell_type": "code",
   "execution_count": 117,
   "id": "59ec315b",
   "metadata": {},
   "outputs": [
    {
     "data": {
      "image/png": "[encoded data removed]",
      "text/plain": [
       "<Figure size 432x288 with 1 Axes>"
      ]
     },
     "metadata": {
      "needs_background": "light"
     },
     "output_type": "display_data"
    },
    {
     "data": {
      "image/png": "[encoded data removed]",
      "text/plain": [
       "<Figure size 432x288 with 1 Axes>"
      ]
     },
     "metadata": {
      "needs_background": "light"
     },
     "output_type": "display_data"
    }
   ],
   "source": [
    "# Histogramme des rendements\n",
    "apple_returns=apple.calculate_return().dropna()\n",
    "plt.hist(apple_returns, bins=20, edgecolor='k', alpha=0.7)\n",
    "plt.title(\"Distribution des rendements d'apple\")\n",
    "plt.xlabel(\"Rendements\")\n",
    "plt.ylabel(\"Fréquence\")\n",
    "plt.show()\n",
    "\n",
    "# Histogramme des rendements\n",
    "microsoft_returns=microsoft.calculate_return().dropna()\n",
    "plt.hist(microsoft_returns, bins=20, edgecolor='k', alpha=0.7)\n",
    "plt.title(\"Distribution des rendements de microsoft\")\n",
    "plt.xlabel(\"Rendements\")\n",
    "plt.ylabel(\"Fréquence\")\n",
    "plt.show()"
   ]
  },
  {
   "cell_type": "code",
   "execution_count": 118,
   "id": "9e093a92",
   "metadata": {},
   "outputs": [
    {
     "name": "stdout",
     "output_type": "stream",
     "text": [
      "Shapiro-Wilk Test: Statistique=0.9855, p-value=0.0124\n",
      "Les rendements de microsoft ne suivent pas une distribution normale (p <= 0.05).\n"
     ]
    }
   ],
   "source": [
    "#  Test de Shapiro-Wilk pour tester la normalité des rendemets\n",
    "shapiro_stat, shapiro_p = shapiro(microsoft_returns)\n",
    "print(f\"Shapiro-Wilk Test: Statistique={shapiro_stat:.4f}, p-value={shapiro_p:.4f}\")\n",
    "if shapiro_p > 0.05:\n",
    "    print(\"Les rendements de microsoft suivent une distribution normale (p > 0.05).\")\n",
    "else:\n",
    "    print(\"Les rendements de microsoft ne suivent pas une distribution normale (p <= 0.05).\")\n"
   ]
  },
  {
   "cell_type": "code",
   "execution_count": 119,
   "id": "21fce9c0",
   "metadata": {},
   "outputs": [
    {
     "name": "stdout",
     "output_type": "stream",
     "text": [
      "Shapiro-Wilk Test: Statistique=0.9857, p-value=0.0137\n",
      "Les rendements d'apple ne suivent pas une distribution normale (p <= 0.05).\n"
     ]
    }
   ],
   "source": [
    "# 1. Test de Shapiro-Wilk\n",
    "shapiro_stat, shapiro_p = shapiro(apple_returns)\n",
    "print(f\"Shapiro-Wilk Test: Statistique={shapiro_stat:.4f}, p-value={shapiro_p:.4f}\")\n",
    "if shapiro_p > 0.05:\n",
    "    print(\"Les rendements d'apple  suivent une distribution normale (p > 0.05).\")\n",
    "else:\n",
    "    print(\"Les rendements d'apple ne suivent pas une distribution normale (p <= 0.05).\")\n"
   ]
  },
  {
   "cell_type": "code",
   "execution_count": 120,
   "id": "bcc29617",
   "metadata": {},
   "outputs": [
    {
     "name": "stdout",
     "output_type": "stream",
     "text": [
      "Shapiro-Wilk Test: Statistique=0.9955, p-value=0.6892\n",
      "Les rendements  suivent une distribution normale (p > 0.05).\n"
     ]
    }
   ],
   "source": [
    "portfolio_returns=portfolio.portfolio_returns()\n",
    "shapiro_stat, shapiro_p = shapiro(portfolio_returns)\n",
    "print(f\"Shapiro-Wilk Test: Statistique={shapiro_stat:.4f}, p-value={shapiro_p:.4f}\")\n",
    "if shapiro_p > 0.05:\n",
    "    print(\"Les rendements  suivent une distribution normale (p > 0.05).\")\n",
    "else:\n",
    "    print(\"Les rendements ne suivent pas une distribution normale (p <= 0.05).\")\n"
   ]
  },
  {
   "cell_type": "markdown",
   "id": "2368c40f",
   "metadata": {},
   "source": [
    "###  QQ-plot pour comparer la distribution empirique avec une distribution normale."
   ]
  },
  {
   "cell_type": "code",
   "execution_count": 121,
   "id": "faeebcd9",
   "metadata": {},
   "outputs": [],
   "source": [
    "import statsmodels.api as sm"
   ]
  },
  {
   "cell_type": "code",
   "execution_count": 122,
   "id": "d33d8dd5",
   "metadata": {},
   "outputs": [
    {
     "name": "stderr",
     "output_type": "stream",
     "text": [
      "C:\\Users\\tarik\\anaconda3\\lib\\site-packages\\statsmodels\\graphics\\gofplots.py:993: UserWarning: marker is redundantly defined by the 'marker' keyword argument and the fmt string \"bo\" (-> marker='o'). The keyword argument will take precedence.\n",
      "  ax.plot(x, y, fmt, **plot_style)\n"
     ]
    },
    {
     "data": {
      "image/png": "[encoded data removed]",
      "text/plain": [
       "<Figure size 432x288 with 1 Axes>"
      ]
     },
     "metadata": {
      "needs_background": "light"
     },
     "output_type": "display_data"
    },
    {
     "name": "stderr",
     "output_type": "stream",
     "text": [
      "C:\\Users\\tarik\\anaconda3\\lib\\site-packages\\statsmodels\\graphics\\gofplots.py:993: UserWarning: marker is redundantly defined by the 'marker' keyword argument and the fmt string \"bo\" (-> marker='o'). The keyword argument will take precedence.\n",
      "  ax.plot(x, y, fmt, **plot_style)\n"
     ]
    },
    {
     "data": {
      "image/png": "[encoded data removed]",
      "text/plain": [
       "<Figure size 432x288 with 1 Axes>"
      ]
     },
     "metadata": {
      "needs_background": "light"
     },
     "output_type": "display_data"
    }
   ],
   "source": [
    "\n",
    "sm.qqplot(apple_returns, line='s')\n",
    "plt.title(\"QQ-plot des rendements d'apple\")\n",
    "plt.show()\n",
    "sm.qqplot(microsoft_returns, line='s')\n",
    "plt.title(\"QQ-plot des rendements de microsoft\")\n",
    "plt.show()"
   ]
  },
  {
   "cell_type": "markdown",
   "id": "b0ec70dd",
   "metadata": {},
   "source": [
    "##### Skewness is the third moment of a distribution after mean and variance.\n",
    "Negative skew: The mass of the distribution is concentrated on the right. Usually a right-leaning curve.\n",
    "\n",
    "Positive skew: The mass of the distribution is concentrated on the left. Usually a left-leaning curve.\n",
    "\n",
    "In finance, we would tend to want a positive skewness."
   ]
  },
  {
   "cell_type": "code",
   "execution_count": 123,
   "id": "6598c682",
   "metadata": {},
   "outputs": [
    {
     "name": "stdout",
     "output_type": "stream",
     "text": [
      "Skewness : 0.011691066109762125\n"
     ]
    }
   ],
   "source": [
    "from scipy.stats import skew, kurtosis\n",
    "\n",
    "print(f\"Skewness : {skew(apple_returns.dropna())}\")  "
   ]
  },
  {
   "cell_type": "code",
   "execution_count": 124,
   "id": "b4d8683e",
   "metadata": {},
   "outputs": [
    {
     "name": "stdout",
     "output_type": "stream",
     "text": [
      "Kurtosis : 1.380283015305709\n"
     ]
    }
   ],
   "source": [
    "print(f\"Kurtosis : {kurtosis(apple_returns.dropna())}\")  "
   ]
  },
  {
   "cell_type": "markdown",
   "id": "184ed5b6",
   "metadata": {},
   "source": [
    "#### Ajuster une loi de student sur les rendements d'apple"
   ]
  },
  {
   "cell_type": "markdown",
   "id": "437e6e47",
   "metadata": {},
   "source": [
    "Le fait d'ajuster une loi (comme la loi t de Student) aux rendements signifie qu'on utilise cette loi pour modéliser les données. Cela se fait en estimant les paramètres de la loi (par exemple, degrés de liberté, moyenne, écart-type) pour qu'elle corresponde au mieux à la distribution observée des rendements (qui ne suivent pas une distribution normale)."
   ]
  },
  {
   "cell_type": "markdown",
   "id": "2c36198b",
   "metadata": {},
   "source": [
    "L'objectif est de trouver les paramètres optimaux de la loi t de Student (ν,μ,σ) pour qu'elle représente les rendements réels.\n",
    "\n",
    "La fonction t.fit estime les paramètres suivants :\n",
    "ν (degrés de liberté) : contrôle l'épaisseur des queues.\n",
    "μ (loc) : la moyenne des rendements ajustés.\n",
    "σ (scale) : l'écart-type ajusté."
   ]
  },
  {
   "cell_type": "code",
   "execution_count": 125,
   "id": "ffc6da48",
   "metadata": {},
   "outputs": [
    {
     "name": "stdout",
     "output_type": "stream",
     "text": [
      "Degrés de liberté (df): 7.32699770426108, Location (loc): 0.0017600215641715646, Scale: 0.010701327478135495\n"
     ]
    },
    {
     "data": {
      "image/png": "[encoded data removed]",
      "text/plain": [
       "<Figure size 432x288 with 1 Axes>"
      ]
     },
     "metadata": {
      "needs_background": "light"
     },
     "output_type": "display_data"
    }
   ],
   "source": [
    "from scipy.stats import t,norm\n",
    "\n",
    "# Ajuster une loi t de Student sur les rendements d'apple\n",
    "data = apple_returns \n",
    "df, loc, scale = t.fit(data)  # Paramètres de la loi t\n",
    "print(f\"Degrés de liberté (df): {df}, Location (loc): {loc}, Scale: {scale}\")\n",
    "\n",
    "# Comparer la densité des rendements avec la loi t ajustée\n",
    "\n",
    "x = np.linspace(min(data), max(data), 100)\n",
    "pdf = t.pdf(x, df, loc, scale)\n",
    "plt.hist(data, bins=20, density=True, alpha=0.7, label=\"Données\")\n",
    "plt.plot(x, pdf, label=\"Loi t ajustée\", color=\"red\")\n",
    "plt.legend()\n",
    "plt.show()"
   ]
  },
  {
   "cell_type": "markdown",
   "id": "e2d8560e",
   "metadata": {},
   "source": [
    "#### Ajustement de la VaR et de la CVaR"
   ]
  },
  {
   "cell_type": "code",
   "execution_count": 126,
   "id": "af027f76",
   "metadata": {},
   "outputs": [
    {
     "name": "stdout",
     "output_type": "stream",
     "text": [
      "VaR (ajustée) : -0.0184\n",
      "CVaR (ajustée) : -0.0257\n"
     ]
    }
   ],
   "source": [
    "# Simuler des rendements non normaux (par exemple, loi t)\n",
    "returns = apple_returns  # Rendements \n",
    "\n",
    "# Ajuster les paramètres de la loi t\n",
    "df, loc, scale = t.fit(returns)\n",
    "\n",
    "# Calcul de la VaR pour cette distribution\n",
    "# La VaR à un niveau α est le quantile q=α d'une distribution de pertes\n",
    "alpha=0.05\n",
    "VaR_t = t.ppf(0.05, df, loc, scale)\n",
    "\n",
    "# Calcul de la CVaR pour cette distribution\n",
    "CVaR_t = t.expect(lambda x: x, args=(df,), lb=-np.inf, ub=VaR_t, loc=loc, scale=scale) / alpha\n",
    "\n",
    "print(f\"VaR (ajustée) : {VaR_t:.4f}\")\n",
    "print(f\"CVaR (ajustée) : {CVaR_t:.4f}\")"
   ]
  },
  {
   "cell_type": "markdown",
   "id": "0ed26694",
   "metadata": {},
   "source": [
    "# Calcul de la Var et de la CVaR du portfeuille"
   ]
  },
  {
   "cell_type": "markdown",
   "id": "cb635e24",
   "metadata": {},
   "source": [
    "## VaR Historique"
   ]
  },
  {
   "cell_type": "code",
   "execution_count": 127,
   "id": "c677e43a",
   "metadata": {},
   "outputs": [],
   "source": [
    "portfolio_returns=portfolio.portfolio_returns()"
   ]
  },
  {
   "cell_type": "code",
   "execution_count": 128,
   "id": "812eb0b7",
   "metadata": {},
   "outputs": [
    {
     "name": "stdout",
     "output_type": "stream",
     "text": [
      "Il y a 5% de chance que la perte soit supérieur à 1.57% la valeur du portfeuille\n"
     ]
    }
   ],
   "source": [
    "### VAR HISTORIQUE\n",
    "# Définir le niveau de confiance\n",
    "# Pour un niveau de confiance de 95 %, le seuil est 5 %\n",
    "VaR = np.percentile(portfolio_returns, 5)\n",
    "print(f\"Il y a 5% de chance que la perte soit supérieur à {-VaR* 100:.2f}% la valeur du portfeuille\")"
   ]
  },
  {
   "cell_type": "code",
   "execution_count": 129,
   "id": "177c0c14",
   "metadata": {},
   "outputs": [
    {
     "name": "stdout",
     "output_type": "stream",
     "text": [
      "CVaR à 5%: -2.30%\n"
     ]
    }
   ],
   "source": [
    "CVaR=portfolio_returns[portfolio_returns<VaR].mean()\n",
    "print(f\"CVaR à 5%: {CVaR*100:.2f}%\")"
   ]
  },
  {
   "cell_type": "markdown",
   "id": "eeaeb7da",
   "metadata": {},
   "source": [
    "## Var Parametrique"
   ]
  },
  {
   "cell_type": "code",
   "execution_count": 130,
   "id": "f8357806",
   "metadata": {},
   "outputs": [
    {
     "name": "stdout",
     "output_type": "stream",
     "text": [
      "Il y a 5% de chance que la perte soit supérieur à 2.17% la valeur du portfeuille\n"
     ]
    }
   ],
   "source": [
    "mean=portfolio.portfolio_return()\n",
    "quantile=norm.ppf(0.95, loc =0, scale = 1)\n",
    "std=portfolio.portfolio_volatility()\n",
    "VaRp=-(mean+quantile*std)\n",
    "print(f\"Il y a 5% de chance que la perte soit supérieur à {-VaRp* 100:.2f}% la valeur du portfeuille\")"
   ]
  },
  {
   "cell_type": "code",
   "execution_count": 131,
   "id": "2ad84d17",
   "metadata": {},
   "outputs": [
    {
     "name": "stdout",
     "output_type": "stream",
     "text": [
      "CVaR à 5% : -2.6649%\n"
     ]
    }
   ],
   "source": [
    "CVaRp=portfolio_returns[portfolio_returns<VaRp].mean()\n",
    "print(f\"CVaR à 5% : {CVaRp*100:.4f}%\")"
   ]
  },
  {
   "cell_type": "markdown",
   "id": "c92d578f",
   "metadata": {},
   "source": [
    "## Visualiser les seuils de VaR et CVaR sur la distribution des rendements"
   ]
  },
  {
   "cell_type": "code",
   "execution_count": 132,
   "id": "a368a205",
   "metadata": {},
   "outputs": [
    {
     "data": {
      "image/png": "[encoded data removed]",
      "text/plain": [
       "<Figure size 720x432 with 1 Axes>"
      ]
     },
     "metadata": {
      "needs_background": "light"
     },
     "output_type": "display_data"
    }
   ],
   "source": [
    "# Création de l'histogramme\n",
    "alpha=0.05\n",
    "plt.figure(figsize=(10, 6))\n",
    "plt.hist(portfolio_returns, bins=30, density=True, alpha=0.6, color='skyblue', edgecolor='black')\n",
    "\n",
    "# Ajouter une ligne verticale pour la VaR\n",
    "plt.axvline(VaRp, color='red', linestyle='--', label=f\"VaR ({alpha*100:.0f}%): {VaRp:.4f}\")\n",
    "\n",
    "# Ajouter une ligne verticale pour la CVaR\n",
    "plt.axvline(CVaRp, color='orange', linestyle='--', label=f\"CVaR ({alpha*100:.0f}%): {CVaRp:.4f}\")\n",
    "\n",
    "# Ajouter des annotations\n",
    "plt.title(\"Distribution des Rendements avec VaRp et CVaRp\", fontsize=14)\n",
    "plt.xlabel(\"Rendements\", fontsize=12)\n",
    "plt.ylabel(\"Densité\", fontsize=12)\n",
    "plt.legend(fontsize=10)\n",
    "\n",
    "# Afficher le graphique\n",
    "plt.grid(alpha=0.3)\n",
    "plt.show()"
   ]
  },
  {
   "cell_type": "markdown",
   "id": "7bbffbf4",
   "metadata": {},
   "source": [
    "VaR (ligne rouge) :\n",
    "\n",
    "Indique la perte maximale pour un niveau de confiance donné (α=5%).\n",
    "Tout ce qui est à gauche de cette ligne représente des pertes extrêmes au-delà du seuil.\n",
    "CVaR (ligne orange) :\n",
    "\n",
    "Représente la perte moyenne conditionnelle au dépassement de la VaR.\n",
    "Elle est plus négative que la VaR, car elle inclut toutes les pertes extrêmes.\n"
   ]
  },
  {
   "cell_type": "code",
   "execution_count": 133,
   "id": "ff17a682",
   "metadata": {},
   "outputs": [],
   "source": [
    "# Boucle sur différents niveau de confiance\n",
    "#for cl, VaR in zip (confidence_levels, VaRs):\n",
    "#    plt.axvline (x=-VaR, linestyle='-', color='r', label='VaR at {} % Confidence'.format(int(cl* 100)))"
   ]
  },
  {
   "cell_type": "code",
   "execution_count": 134,
   "id": "639334ab",
   "metadata": {},
   "outputs": [
    {
     "name": "stdout",
     "output_type": "stream",
     "text": [
      "Degrés de liberté (df): 16.46958065590905, Location (loc): 0.0018042795953534358, Scale: 0.01128440433114404\n"
     ]
    },
    {
     "data": {
      "image/png": "[encoded data removed]",
      "text/plain": [
       "<Figure size 432x288 with 1 Axes>"
      ]
     },
     "metadata": {
      "needs_background": "light"
     },
     "output_type": "display_data"
    }
   ],
   "source": [
    "from scipy.stats import t,norm\n",
    "\n",
    "# Ajuster une loi t de Student sur les rendements\n",
    "data = portfolio_returns \n",
    "df, loc, scale = t.fit(data)  # Paramètres de la loi t\n",
    "print(f\"Degrés de liberté (df): {df}, Location (loc): {loc}, Scale: {scale}\")\n",
    "\n",
    "x = np.linspace(min(data), max(data), 100)\n",
    "pdf = t.pdf(x, df, loc, scale)\n",
    "plt.hist(data, bins=20, density=True, alpha=0.7, label=\"Données\")\n",
    "# Ajouter une ligne verticale pour la VaR\n",
    "plt.axvline(VaRp, color='red', linestyle='--', label=f\"VaR ({alpha*100:.0f}%): {VaRp:.4f}\")\n",
    "# Ajouter une ligne verticale pour la CVaR\n",
    "plt.axvline(CVaRp, color='orange', linestyle='--', label=f\"CVaR ({alpha*100:.0f}%): {CVaRp:.4f}\")\n",
    "plt.plot(x, pdf, label=\"Loi t ajustée\", color=\"red\")\n",
    "plt.legend()\n",
    "plt.show()"
   ]
  },
  {
   "cell_type": "markdown",
   "id": "b05c43fd",
   "metadata": {},
   "source": [
    "## Impact de l'optimisation sur la VaR et la CVaR"
   ]
  },
  {
   "cell_type": "code",
   "execution_count": 135,
   "id": "1152d52d",
   "metadata": {},
   "outputs": [],
   "source": [
    "def var(mean,std,conf):\n",
    "    quantile=norm.ppf(conf, loc =0, scale = 1)\n",
    "    return -(mean+quantile*std)"
   ]
  },
  {
   "cell_type": "code",
   "execution_count": 136,
   "id": "95685721",
   "metadata": {},
   "outputs": [
    {
     "name": "stdout",
     "output_type": "stream",
     "text": [
      "Optimization terminated successfully    (Exit mode 0)\n",
      "            Current function value: -0.14597613020252304\n",
      "            Iterations: 2\n",
      "            Function evaluations: 6\n",
      "            Gradient evaluations: 2\n",
      "Optimization terminated successfully    (Exit mode 0)\n",
      "            Current function value: -0.15500496899867186\n",
      "            Iterations: 2\n",
      "            Function evaluations: 6\n",
      "            Gradient evaluations: 2\n",
      "Optimization terminated successfully    (Exit mode 0)\n",
      "            Current function value: -0.15209085047506848\n",
      "            Iterations: 1\n",
      "            Function evaluations: 3\n",
      "            Gradient evaluations: 1\n",
      "Optimization terminated successfully    (Exit mode 0)\n",
      "            Current function value: -0.13996882051154502\n",
      "            Iterations: 2\n",
      "            Function evaluations: 6\n",
      "            Gradient evaluations: 2\n",
      "Optimization terminated successfully    (Exit mode 0)\n",
      "            Current function value: -0.1245966617263406\n",
      "            Iterations: 2\n",
      "            Function evaluations: 6\n",
      "            Gradient evaluations: 2\n"
     ]
    }
   ],
   "source": [
    "#Initialisation du portfeuille\n",
    "portfolio = Portfolio()\n",
    "portfolio.add_asset(apple,0.5)\n",
    "portfolio.add_asset(microsoft,0.5)\n",
    "\n",
    "#Rendements des actifs du portfeuille\n",
    "mu=[asset.calculate_return().mean() for asset in portfolio._assets]\n",
    "# Liste de rendements cibles\n",
    "target_returns = np.linspace(min(mu), max(mu),5)\n",
    "\n",
    "# Initialisation des listes pour stocker les résultats\n",
    "weights_list = []\n",
    "returns_list = []\n",
    "stds_list = []\n",
    "VaR=[]\n",
    "\n",
    "# Optimisation pour chaque rendement cible\n",
    "for target in target_returns:\n",
    "    portfolio.optimize_portfolio2(target)\n",
    "    returns_list.append(portfolio.portfolio_return())\n",
    "    stds_list.append(portfolio.portfolio_volatility())\n",
    "    VaR.append(var(portfolio.portfolio_return(),portfolio.portfolio_volatility(),0.95))"
   ]
  },
  {
   "cell_type": "code",
   "execution_count": 137,
   "id": "957d19aa",
   "metadata": {},
   "outputs": [
    {
     "data": {
      "text/plain": [
       "[0.022510822647925994,\n",
       " 0.021703401122341287,\n",
       " 0.022487306500447182,\n",
       " 0.02470587923796981,\n",
       " 0.02800038976095298]"
      ]
     },
     "execution_count": 137,
     "metadata": {},
     "output_type": "execute_result"
    }
   ],
   "source": [
    "VaR=list(map(lambda x: x * -1, VaR))\n",
    "VaR"
   ]
  },
  {
   "cell_type": "code",
   "execution_count": 138,
   "id": "e6177db4",
   "metadata": {},
   "outputs": [
    {
     "data": {
      "image/png": "[encoded data removed]",
      "text/plain": [
       "<Figure size 432x288 with 1 Axes>"
      ]
     },
     "metadata": {
      "needs_background": "light"
     },
     "output_type": "display_data"
    }
   ],
   "source": [
    "# Visualisation\n",
    "plt.plot(VaR, returns_list, '-o')\n",
    "plt.xlabel('VaR')\n",
    "plt.ylabel('Rendement attendu')\n",
    "plt.title('Relation entre la VaR et le rendement')\n",
    "plt.show()"
   ]
  },
  {
   "cell_type": "markdown",
   "id": "a4b82b3e",
   "metadata": {},
   "source": [
    "La VaR est en relation linéaire avec la volatilité cette derniére évolue de la meme manière que la volatilité en fonction du rendement"
   ]
  },
  {
   "cell_type": "markdown",
   "id": "5310e7d9",
   "metadata": {},
   "source": [
    "## Simulation de Monte Carlo"
   ]
  },
  {
   "cell_type": "markdown",
   "id": "16484d59",
   "metadata": {},
   "source": [
    "En répétant de nombreuses simulations de marche aléatoire, nous pouvons calculer un grand nombre de résultats possibles, c'est ce qu'on appelle une simulation de Monte Carlo.\n",
    "\n",
    "Les simulations de Monte Carlo sont une méthode stochastique permettant de calculer la VaR en simulant un grand nombre de scénarios possibles pour les rendements des actifs du portefeuille.\n",
    "\n",
    "Il est possible d'étudier les résultats des simulations de Monte Carlo de la même manière que les valeurs historiques, pour calculer la VaR. La seule différence est que nous pouvons désormais créer autant de simulations que nous le souhaitons."
   ]
  },
  {
   "cell_type": "code",
   "execution_count": 139,
   "id": "c21d3a45",
   "metadata": {},
   "outputs": [],
   "source": [
    "mu = portfolio.portfolio_return()\n",
    "vol = portfolio.portfolio_volatility()\n",
    "sim_returns = []\n",
    "\n",
    "for i in range(1000):\n",
    "      rand_return = np.random.normal(mu, vol)\n",
    "      sim_returns.append(rand_return)\n",
    "\n",
    "var_95 = np.percentile(sim_returns, 5)"
   ]
  },
  {
   "cell_type": "code",
   "execution_count": 140,
   "id": "da8f4c8c",
   "metadata": {},
   "outputs": [
    {
     "data": {
      "text/plain": [
       "-0.02463403164949957"
      ]
     },
     "execution_count": 140,
     "metadata": {},
     "output_type": "execute_result"
    }
   ],
   "source": [
    "var_95"
   ]
  },
  {
   "cell_type": "code",
   "execution_count": 148,
   "id": "9e40e897",
   "metadata": {},
   "outputs": [
    {
     "name": "stdout",
     "output_type": "stream",
     "text": [
      "VaR Monte Carlo à 95% : 0.0246\n"
     ]
    },
    {
     "data": {
      "image/png": "[encoded data removed]",
      "text/plain": [
       "<Figure size 432x288 with 1 Axes>"
      ]
     },
     "metadata": {
      "needs_background": "light"
     },
     "output_type": "display_data"
    }
   ],
   "source": [
    "# Affichage des résultats\n",
    "print(f\"VaR Monte Carlo à 95% : {-var_95:.4f}\")\n",
    "\n",
    "# Visualisation de la distribution des rendements simulés\n",
    "plt.hist(portfolio_returns, bins=50, edgecolor='black', alpha=0.7, density=True)\n",
    "plt.axvline(var_95, color='red', linestyle='dashed', label=f'VaR 95%: {var_95:.4f}')\n",
    "plt.title(\"Distribution des rendements simulés du portefeuille\")\n",
    "plt.xlabel(\"Rendement du portefeuille\")\n",
    "plt.ylabel(\"Densité\")\n",
    "plt.legend()\n",
    "plt.show()\n"
   ]
  },
  {
   "cell_type": "code",
   "execution_count": null,
   "id": "3fb47fd8",
   "metadata": {},
   "outputs": [],
   "source": []
  }
 ],
 "metadata": {
  "kernelspec": {
   "display_name": "Python 3 (ipykernel)",
   "language": "python",
   "name": "python3"
  },
  "language_info": {
   "codemirror_mode": {
    "name": "ipython",
    "version": 3
   },
   "file_extension": ".py",
   "mimetype": "text/x-python",
   "name": "python",
   "nbconvert_exporter": "python",
   "pygments_lexer": "ipython3",
   "version": "3.9.7"
  }
 },
 "nbformat": 4,
 "nbformat_minor": 5
}
